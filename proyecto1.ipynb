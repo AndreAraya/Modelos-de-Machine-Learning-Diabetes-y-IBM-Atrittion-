{
 "cells": [
  {
   "cell_type": "markdown",
   "metadata": {},
   "source": [
    "## **Proyecto 1:**  Clasificación de datos aplicados.\n"
   ]
  },
  {
   "cell_type": "markdown",
   "metadata": {},
   "source": [
    "## **Diabetes.**"
   ]
  },
  {
   "cell_type": "markdown",
   "metadata": {},
   "source": [
    "### **Librerias y lectura del dataset.**"
   ]
  },
  {
   "cell_type": "code",
   "execution_count": 24,
   "metadata": {},
   "outputs": [],
   "source": [
    "import numpy as np\n",
    "import pandas as pd\n",
    "import seaborn as sns\n",
    "import matplotlib.pyplot as plt\n",
    "from sklearn.utils import resample\n",
    "from imblearn.over_sampling import SMOTE\n",
    "from sklearn.neighbors import KNeighborsClassifier\n",
    "from sklearn.linear_model import LogisticRegression\n",
    "from sklearn.model_selection import train_test_split\n",
    "from sklearn.feature_selection import SelectKBest,chi2\n",
    "from sklearn.preprocessing import StandardScaler,LabelEncoder\n",
    "from sklearn.metrics import accuracy_score, precision_score, recall_score, confusion_matrix\n",
    "\n",
    "df1 = pd.read_csv('diabetes.csv')"
   ]
  },
  {
   "cell_type": "markdown",
   "metadata": {},
   "source": [
    "### **Exploración y preprocesamiento de datasets.**"
   ]
  },
  {
   "cell_type": "markdown",
   "metadata": {},
   "source": [
    "##### Información general."
   ]
  },
  {
   "cell_type": "code",
   "execution_count": null,
   "metadata": {},
   "outputs": [],
   "source": [
    "print(df1.info())"
   ]
  },
  {
   "cell_type": "code",
   "execution_count": null,
   "metadata": {},
   "outputs": [],
   "source": [
    "print(df1.describe())"
   ]
  },
  {
   "cell_type": "code",
   "execution_count": null,
   "metadata": {},
   "outputs": [],
   "source": [
    "print(\"Cantidad de valores unicos.\")\n",
    "print(df1.nunique())"
   ]
  },
  {
   "cell_type": "markdown",
   "metadata": {},
   "source": [
    "##### Analisis de datos."
   ]
  },
  {
   "cell_type": "code",
   "execution_count": null,
   "metadata": {},
   "outputs": [],
   "source": [
    "df1.hist(bins=30, figsize=(12, 10))\n",
    "plt.suptitle('Distribución de las Características Numéricas')\n",
    "plt.show()"
   ]
  },
  {
   "cell_type": "code",
   "execution_count": null,
   "metadata": {},
   "outputs": [],
   "source": [
    "# Ver cuántos ceros hay en las columnas que no deberían tener ceros\n",
    "df1[['Glucose', 'BloodPressure', 'SkinThickness', 'Insulin', 'BMI']].apply(lambda x: (x == 0).sum())"
   ]
  },
  {
   "cell_type": "code",
   "execution_count": null,
   "metadata": {},
   "outputs": [],
   "source": [
    "# Boxplot para identificar posibles valores atípicos\n",
    "plt.figure(figsize=(12, 8))\n",
    "sns.boxplot(data=df1, orient='h')\n",
    "plt.title('Boxplot de las Características Numéricas')\n",
    "plt.show()"
   ]
  },
  {
   "cell_type": "code",
   "execution_count": null,
   "metadata": {},
   "outputs": [],
   "source": [
    "sns.countplot(x='Outcome', data=df1)\n",
    "plt.title('Distribución de la Variable Objetivo (Outcome)')\n",
    "plt.show()\n",
    "#Conteo para ver el numero de pacientes con y sin diabetes."
   ]
  },
  {
   "cell_type": "markdown",
   "metadata": {},
   "source": [
    "#### Valores Atípicos."
   ]
  },
  {
   "cell_type": "code",
   "execution_count": 25,
   "metadata": {},
   "outputs": [
    {
     "name": "stdout",
     "output_type": "stream",
     "text": [
      "Análisis de outliers para Pregnancies:\n",
      "\n",
      "Rango normal: -6.50 - 13.50\n",
      "Número de outliers: 4\n",
      "Porcentaje de outliers: 0.52%\n",
      "Estadísticas de los outliers:\n",
      "count     4.000000\n",
      "mean     15.000000\n",
      "std       1.414214\n",
      "min      14.000000\n",
      "25%      14.000000\n",
      "50%      14.500000\n",
      "75%      15.500000\n",
      "max      17.000000\n",
      "Name: Pregnancies, dtype: float64\n",
      "\n",
      "\n",
      "Análisis de outliers para Glucose:\n",
      "\n",
      "Rango normal: 37.12 - 202.12\n",
      "Número de outliers: 5\n",
      "Porcentaje de outliers: 0.65%\n",
      "Estadísticas de los outliers:\n",
      "count    5.0\n",
      "mean     0.0\n",
      "std      0.0\n",
      "min      0.0\n",
      "25%      0.0\n",
      "50%      0.0\n",
      "75%      0.0\n",
      "max      0.0\n",
      "Name: Glucose, dtype: float64\n",
      "\n",
      "\n",
      "Análisis de outliers para BloodPressure:\n",
      "\n",
      "Rango normal: 35.00 - 107.00\n",
      "Número de outliers: 45\n",
      "Porcentaje de outliers: 5.86%\n",
      "Estadísticas de los outliers:\n",
      "count     45.000000\n",
      "mean      19.244444\n",
      "std       40.792800\n",
      "min        0.000000\n",
      "25%        0.000000\n",
      "50%        0.000000\n",
      "75%        0.000000\n",
      "max      122.000000\n",
      "Name: BloodPressure, dtype: float64\n",
      "\n",
      "\n",
      "Análisis de outliers para SkinThickness:\n",
      "\n",
      "Rango normal: -48.00 - 80.00\n",
      "Número de outliers: 1\n",
      "Porcentaje de outliers: 0.13%\n",
      "Estadísticas de los outliers:\n",
      "count     1.0\n",
      "mean     99.0\n",
      "std       NaN\n",
      "min      99.0\n",
      "25%      99.0\n",
      "50%      99.0\n",
      "75%      99.0\n",
      "max      99.0\n",
      "Name: SkinThickness, dtype: float64\n",
      "\n",
      "\n",
      "Análisis de outliers para Insulin:\n",
      "\n",
      "Rango normal: -190.88 - 318.12\n",
      "Número de outliers: 34\n",
      "Porcentaje de outliers: 4.43%\n",
      "Estadísticas de los outliers:\n",
      "count     34.000000\n",
      "mean     456.970588\n",
      "std      127.425197\n",
      "min      321.000000\n",
      "25%      346.500000\n",
      "50%      452.500000\n",
      "75%      506.250000\n",
      "max      846.000000\n",
      "Name: Insulin, dtype: float64\n",
      "\n",
      "\n",
      "Análisis de outliers para BMI:\n",
      "\n",
      "Rango normal: 13.35 - 50.55\n",
      "Número de outliers: 19\n",
      "Porcentaje de outliers: 2.47%\n",
      "Estadísticas de los outliers:\n",
      "count    19.000000\n",
      "mean     23.657895\n",
      "std      28.678356\n",
      "min       0.000000\n",
      "25%       0.000000\n",
      "50%       0.000000\n",
      "75%      53.050000\n",
      "max      67.100000\n",
      "Name: BMI, dtype: float64\n",
      "\n",
      "\n",
      "Análisis de outliers para DiabetesPedigreeFunction:\n",
      "\n",
      "Rango normal: -0.33 - 1.20\n",
      "Número de outliers: 29\n",
      "Porcentaje de outliers: 3.78%\n",
      "Estadísticas de los outliers:\n",
      "count    29.000000\n",
      "mean      1.543276\n",
      "std       0.358388\n",
      "min       1.213000\n",
      "25%       1.282000\n",
      "50%       1.394000\n",
      "75%       1.699000\n",
      "max       2.420000\n",
      "Name: DiabetesPedigreeFunction, dtype: float64\n",
      "\n",
      "\n",
      "Análisis de outliers para Age:\n",
      "\n",
      "Rango normal: -1.50 - 66.50\n",
      "Número de outliers: 9\n",
      "Porcentaje de outliers: 1.17%\n",
      "Estadísticas de los outliers:\n",
      "count     9.000000\n",
      "mean     70.000000\n",
      "std       4.444097\n",
      "min      67.000000\n",
      "25%      67.000000\n",
      "50%      69.000000\n",
      "75%      70.000000\n",
      "max      81.000000\n",
      "Name: Age, dtype: float64\n",
      "\n",
      "\n"
     ]
    }
   ],
   "source": [
    "numeric_columns = ['Pregnancies', 'Glucose', 'BloodPressure', 'SkinThickness', 'Insulin', 'BMI', 'DiabetesPedigreeFunction', 'Age']\n",
    "\n",
    "def identify_outliers(df, column):\n",
    "    Q1 = df[column].quantile(0.25)\n",
    "    Q3 = df[column].quantile(0.75)\n",
    "    IQR = Q3 - Q1\n",
    "    lower_bound = Q1 - 1.5 * IQR\n",
    "    upper_bound = Q3 + 1.5 * IQR\n",
    "    outliers = df[(df[column] < lower_bound) | (df[column] > upper_bound)]\n",
    "    return outliers, lower_bound, upper_bound\n",
    "\n",
    "\n",
    "for column in numeric_columns:\n",
    "    outliers, lower_bound, upper_bound = identify_outliers(df1, column)\n",
    "    \n",
    "    print(f\"Análisis de outliers para {column}:\\n\")\n",
    "    print(f\"Rango normal: {lower_bound:.2f} - {upper_bound:.2f}\")\n",
    "    print(f\"Número de outliers: {len(outliers)}\")\n",
    "    print(f\"Porcentaje de outliers: {(len(outliers) / len(df1)) * 100:.2f}%\")\n",
    "    \n",
    "    if len(outliers) > 0:\n",
    "        print(\"Estadísticas de los outliers:\")\n",
    "        print(outliers[column].describe())\n",
    "    \n",
    "    print(f\"\\n\")"
   ]
  },
  {
   "cell_type": "markdown",
   "metadata": {},
   "source": [
    "#### Tratamiento de los datos."
   ]
  },
  {
   "cell_type": "markdown",
   "metadata": {},
   "source": [
    "*(Este tratamiento no es necesario para el modelo final ya que se termino utilizando SMOTE.)*"
   ]
  },
  {
   "cell_type": "code",
   "execution_count": 77,
   "metadata": {},
   "outputs": [],
   "source": [
    "#Tratamiento de balanceo de clases.\n",
    "\n",
    "class_0 = df1[df1['Outcome'] == 0]\n",
    "class_1 = df1[df1['Outcome'] == 1]\n",
    "\n",
    "# Realizar el sobremuestreo (upsampling) de la clase minoritaria\n",
    "class_1_upsampled = resample(class_1,\n",
    "                             replace=True,  # con reemplazo para sobremuestrear\n",
    "                             n_samples=len(class_0),  # igualar el tamaño de la clase mayoritaria\n",
    "                             random_state=42)\n",
    "\n",
    "df_balanced = pd.concat([class_0, class_1_upsampled])\n",
    "\n",
    "#sns.countplot(x='Outcome', data=df_balanced)\n",
    "#plt.title('Distribución Balanceada de la Variable Objetivo (Outcome)')\n",
    "#plt.show()"
   ]
  },
  {
   "cell_type": "markdown",
   "metadata": {},
   "source": [
    "*(El siguiente tratamientos **si** son necesarios)*"
   ]
  },
  {
   "cell_type": "code",
   "execution_count": 6,
   "metadata": {},
   "outputs": [],
   "source": [
    "def tratar_valores_no_validos_y_outliers(df, column, lower_limit, upper_limit, replace_with='median'):\n",
    "    # Primero, tratamos los valores fuera de los límites biológicamente plausibles\n",
    "    valid_values = df[(df[column] >= lower_limit) & (df[column] <= upper_limit)][column]\n",
    "    if replace_with == 'median':\n",
    "        replacement_value = valid_values.median()\n",
    "    elif replace_with == 'mean':\n",
    "        replacement_value = valid_values.mean()\n",
    "    \n",
    "    df.loc[df[column] < lower_limit, column] = replacement_value\n",
    "    df.loc[df[column] > upper_limit, column] = replacement_value\n",
    "    \n",
    "    # Luego, tratamos los outliers dentro de los límites biológicos de manera más conservadora\n",
    "    Q1 = df[column].quantile(0.25)\n",
    "    Q3 = df[column].quantile(0.75)\n",
    "    IQR = Q3 - Q1\n",
    "    lower_bound = max(lower_limit, Q1 - 1.5 * IQR)\n",
    "    upper_bound = min(upper_limit, Q3 + 1.5 * IQR)\n",
    "    \n",
    "    df[column] = df[column].clip(lower_bound, upper_bound)\n",
    "    \n",
    "    return df"
   ]
  },
  {
   "cell_type": "code",
   "execution_count": 8,
   "metadata": {},
   "outputs": [],
   "source": [
    "limits = {\n",
    "    'Pregnancies': (0, 10),\n",
    "    'Glucose': (70, 300),\n",
    "    'BloodPressure': (40, 200),\n",
    "    'SkinThickness': (10, 100),\n",
    "    'Insulin': (10, 1000),\n",
    "    'BMI': (15, 60),\n",
    "    'DiabetesPedigreeFunction': (0.05, 2.5),\n",
    "    'Age': (21, 90)\n",
    "}\n",
    "\n",
    "# Aplicar tratamiento para cada columna\n",
    "for column, (lower, upper) in limits.items():\n",
    "    df = tratar_valores_no_validos_y_outliers(df1, column, lower, upper)"
   ]
  },
  {
   "cell_type": "markdown",
   "metadata": {},
   "source": [
    "#### Distribución con datos balanceados y desbalanceados."
   ]
  },
  {
   "cell_type": "code",
   "execution_count": null,
   "metadata": {},
   "outputs": [],
   "source": [
    "for column in df_balanced.columns[:-1]:  \n",
    "    plt.figure(figsize=(10, 6))\n",
    "    sns.boxplot(x='Outcome', y=column, data=df1)\n",
    "    plt.title(f'Distribución de {column} por Outcome')\n",
    "    plt.show()\n",
    "    \n",
    "#Para comparar la distribución de características entre pacientes con y sin diabetes."
   ]
  },
  {
   "cell_type": "code",
   "execution_count": null,
   "metadata": {},
   "outputs": [],
   "source": [
    "plt.figure(figsize=(12, 10))\n",
    "correlation_matrix = df1.corr()\n",
    "sns.heatmap(correlation_matrix, annot=True, cmap='coolwarm', fmt='.2f')\n",
    "plt.title('Matriz de Correlación')\n",
    "plt.show()\n",
    "#Para ver como se relaciona cada caracteristica con el outcome."
   ]
  },
  {
   "cell_type": "code",
   "execution_count": null,
   "metadata": {},
   "outputs": [],
   "source": [
    "plt.figure(figsize=(12, 10))\n",
    "correlation_matrix = df_balanced.corr()\n",
    "sns.heatmap(correlation_matrix, annot=True, cmap='coolwarm', fmt='.2f')\n",
    "plt.title('Matriz de Correlación')\n",
    "plt.show()\n",
    "#Para ver como se relaciona cada caracteristica con el outcome balanceado."
   ]
  },
  {
   "cell_type": "markdown",
   "metadata": {},
   "source": [
    "### **Entrenamiento de modelos.**"
   ]
  },
  {
   "cell_type": "markdown",
   "metadata": {},
   "source": [
    "#### Selección y balanceo de caracteristicas."
   ]
  },
  {
   "cell_type": "code",
   "execution_count": 16,
   "metadata": {},
   "outputs": [],
   "source": [
    "def dataSelec(dataSet, columns):\n",
    "    # Codificar las columnas categóricas\n",
    "    categoricalCols = dataSet.select_dtypes(include=['object']).columns.tolist()\n",
    "    labelEncoder = LabelEncoder()\n",
    "    \n",
    "    for col in categoricalCols:\n",
    "        dataSet[col] = labelEncoder.fit_transform(dataSet[col])\n",
    "        \n",
    "    X = dataSet.drop('Outcome', axis=1) \n",
    "    y = dataSet['Outcome']  \n",
    "    \n",
    "    # Seleccionar las k mejores características\n",
    "    selector = SelectKBest(chi2, k=columns)\n",
    "    XNew = selector.fit_transform(X, y)\n",
    "    selectedFeatures = selector.get_feature_names_out()\n",
    "    \n",
    "    # Escalar las características seleccionadas\n",
    "    scaler = StandardScaler()\n",
    "    XScaled = scaler.fit_transform(XNew)\n",
    "\n",
    "    # Balanceo de clases con SMOTE\n",
    "    smote = SMOTE()\n",
    "    XBalanced, yBalanced = smote.fit_resample(XScaled, y)\n",
    "    \n",
    "    return XBalanced, yBalanced, XScaled, y, selectedFeatures"
   ]
  },
  {
   "cell_type": "markdown",
   "metadata": {},
   "source": [
    "#### K-Nearest Neighbors (KNN)"
   ]
  },
  {
   "cell_type": "code",
   "execution_count": 17,
   "metadata": {},
   "outputs": [],
   "source": [
    "def knn(columns, dataSet, neighbors, balanced):\n",
    "    # Obtener las características balanceadas y sin balancear\n",
    "    XBalanced, yBalanced, X, y, selectedFeatures = dataSelec(dataSet, columns)\n",
    "\n",
    "    # Dividir los datos en entrenamiento, validación y prueba\n",
    "    if balanced:\n",
    "        X_train, X_temp, y_train, y_temp = train_test_split(XBalanced, yBalanced, test_size=0.30, random_state=42)\n",
    "    else:\n",
    "        X_train, X_temp, y_train, y_temp = train_test_split(X, y, test_size=0.30, random_state=42)\n",
    "        \n",
    "    X_val, X_test, y_val, y_test = train_test_split(X_temp, y_temp, test_size=0.50, random_state=42)\n",
    "\n",
    "    # Crear el modelo KNN\n",
    "    knn = KNeighborsClassifier(n_neighbors=neighbors)\n",
    "\n",
    "    # Entrenar el modelo\n",
    "    knn.fit(X_train, y_train)\n",
    "    \n",
    "    print(\"Selected Features:\", selectedFeatures)\n",
    "\n",
    "    # Evaluar el modelo en el conjunto de validación\n",
    "    y_val_pred = knn.predict(X_val)\n",
    "    print(\"Validación:\")\n",
    "    print(\"Accuracy:\", accuracy_score(y_val, y_val_pred))\n",
    "    print(\"Precision:\", precision_score(y_val, y_val_pred))\n",
    "    print(\"Recall:\", recall_score(y_val, y_val_pred))\n",
    "\n",
    "    # Evaluar el modelo en el conjunto de prueba\n",
    "    y_test_pred = knn.predict(X_test)\n",
    "    print(\"\\nPrueba:\")\n",
    "    print(\"Accuracy:\", accuracy_score(y_test, y_test_pred))\n",
    "    print(\"Precision:\", precision_score(y_test, y_test_pred))\n",
    "    print(\"Recall:\", recall_score(y_test, y_test_pred))\n",
    "\n",
    "    # Mostrar la matriz de confusión\n",
    "    sns.heatmap(confusion_matrix(y_test, y_test_pred), annot=True, fmt='d')\n",
    "    plt.title('Matriz de Confusión KNN')\n",
    "    plt.xlabel('Predicciones')\n",
    "    plt.ylabel('Valores Reales')\n",
    "    plt.show()"
   ]
  },
  {
   "cell_type": "markdown",
   "metadata": {},
   "source": [
    "#### Regresión logistica."
   ]
  },
  {
   "cell_type": "code",
   "execution_count": 22,
   "metadata": {},
   "outputs": [],
   "source": [
    "def logisticRegression(dataSet, columns, balanced):\n",
    "    # Obtener las características balanceadas y sin balancear\n",
    "    XBalanced, yBalanced, X, y, selectedFeatures = dataSelec(dataSet, columns)\n",
    "\n",
    "    # Dividir los datos en entrenamiento, validación y prueba\n",
    "    if balanced:\n",
    "        X_train, X_temp, y_train, y_temp = train_test_split(XBalanced, yBalanced, test_size=0.30, random_state=42)\n",
    "    else:\n",
    "        X_train, X_temp, y_train, y_temp = train_test_split(X, y, test_size=0.30, random_state=42)\n",
    "        \n",
    "    X_val, X_test, y_val, y_test = train_test_split(X_temp, y_temp, test_size=0.50, random_state=42)\n",
    "\n",
    "    # Crear el modelo de regresión logística\n",
    "    logistic_regression = LogisticRegression()\n",
    "\n",
    "    # Entrenar el modelo\n",
    "    logistic_regression.fit(X_train, y_train)\n",
    "    \n",
    "    print(\"Selected Features:\", selectedFeatures)\n",
    "\n",
    "    # Evaluar el modelo en el conjunto de validación\n",
    "    y_val_pred = logistic_regression.predict(X_val)\n",
    "    print(\"Validación:\")\n",
    "    print(\"Accuracy:\", accuracy_score(y_val, y_val_pred))\n",
    "    print(\"Precision:\", precision_score(y_val, y_val_pred))\n",
    "    print(\"Recall:\", recall_score(y_val, y_val_pred))\n",
    "\n",
    "    # Evaluar el modelo en el conjunto de prueba\n",
    "    y_test_pred = logistic_regression.predict(X_test)\n",
    "    print(\"\\nPrueba:\")\n",
    "    print(\"Accuracy:\", accuracy_score(y_test, y_test_pred))\n",
    "    print(\"Precision:\", precision_score(y_test, y_test_pred))\n",
    "    print(\"Recall:\", recall_score(y_test, y_test_pred))\n",
    "\n",
    "    # Mostrar la matriz de confusión\n",
    "    sns.heatmap(confusion_matrix(y_test, y_test_pred), annot=True, fmt='d')\n",
    "    plt.title('Matriz de Confusión Regresión Logística')\n",
    "    plt.xlabel('Predicciones')\n",
    "    plt.ylabel('Valores Reales')\n",
    "    plt.show()"
   ]
  },
  {
   "cell_type": "code",
   "execution_count": 19,
   "metadata": {},
   "outputs": [
    {
     "name": "stdout",
     "output_type": "stream",
     "text": [
      "Selected Features: ['Glucose' 'Insulin' 'BMI' 'Age']\n",
      "Validación:\n",
      "Accuracy: 0.8066666666666666\n",
      "Precision: 0.7362637362637363\n",
      "Recall: 0.9305555555555556\n",
      "\n",
      "Prueba:\n",
      "Accuracy: 0.76\n",
      "Precision: 0.7362637362637363\n",
      "Recall: 0.8481012658227848\n"
     ]
    },
    {
     "data": {
      "image/png": "[encoded data removed]",
      "text/plain": [
       "<Figure size 640x480 with 2 Axes>"
      ]
     },
     "metadata": {},
     "output_type": "display_data"
    }
   ],
   "source": [
    "# Ejecutar KNN con balanceo\n",
    "knn(4, df1, 5, True)"
   ]
  },
  {
   "cell_type": "code",
   "execution_count": 23,
   "metadata": {},
   "outputs": [
    {
     "name": "stdout",
     "output_type": "stream",
     "text": [
      "Selected Features: ['Glucose' 'Insulin' 'BMI' 'Age']\n",
      "Validación:\n",
      "Accuracy: 0.72\n",
      "Precision: 0.7142857142857143\n",
      "Recall: 0.6944444444444444\n",
      "\n",
      "Prueba:\n",
      "Accuracy: 0.72\n",
      "Precision: 0.7534246575342466\n",
      "Recall: 0.6962025316455697\n"
     ]
    },
    {
     "data": {
      "image/png": "[encoded data removed]",
      "text/plain": [
       "<Figure size 640x480 with 2 Axes>"
      ]
     },
     "metadata": {},
     "output_type": "display_data"
    }
   ],
   "source": [
    "# Ejecutar Regresión Logística con balanceo\n",
    "logisticRegression(df1, 4, True)"
   ]
  }
 ],
 "metadata": {
  "kernelspec": {
   "display_name": "Python 3",
   "language": "python",
   "name": "python3"
  },
  "language_info": {
   "codemirror_mode": {
    "name": "ipython",
    "version": 3
   },
   "file_extension": ".py",
   "mimetype": "text/x-python",
   "name": "python",
   "nbconvert_exporter": "python",
   "pygments_lexer": "ipython3",
   "version": "3.12.4"
  }
 },
 "nbformat": 4,
 "nbformat_minor": 2
}
